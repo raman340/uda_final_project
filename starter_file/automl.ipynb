{
 "cells": [
  {
   "cell_type": "code",
   "execution_count": null,
   "metadata": {},
   "outputs": [],
   "source": []
  },
  {
   "cell_type": "markdown",
   "metadata": {},
   "source": [
    "# Automated ML\n",
    "\n",
    "TODO: Import Dependencies. In the cell below, import all the dependencies that you will need to complete the project."
   ]
  },
  {
   "cell_type": "code",
   "execution_count": 1,
   "metadata": {
    "collapsed": false,
    "gather": {
     "logged": 1598423888013
    },
    "jupyter": {
     "outputs_hidden": false,
     "source_hidden": false
    },
    "nteract": {
     "transient": {
      "deleting": false
     }
    }
   },
   "outputs": [
    {
     "name": "stdout",
     "output_type": "stream",
     "text": [
      "SDK version: 1.51.0\n"
     ]
    }
   ],
   "source": [
    "import logging\n",
    "import os\n",
    "import csv\n",
    "\n",
    "from matplotlib import pyplot as plt\n",
    "import numpy as np\n",
    "import pandas as pd\n",
    "from sklearn import datasets\n",
    "import pkg_resources\n",
    "\n",
    "import azureml.core\n",
    "from azureml.core.experiment import Experiment\n",
    "from azureml.core.workspace import Workspace\n",
    "from azureml.train.automl import AutoMLConfig\n",
    "from azureml.core.dataset import Dataset\n",
    "from azureml.core.model import InferenceConfig\n",
    "from azureml.core import Environment\n",
    "from azureml.core.webservice import AciWebservice\n",
    "from azureml.core.model import Model\n",
    "\n",
    "from azureml.pipeline.steps import AutoMLStep\n",
    "\n",
    "# Check core SDK version number\n",
    "print(\"SDK version:\", azureml.core.VERSION)"
   ]
  },
  {
   "cell_type": "markdown",
   "metadata": {},
   "source": [
    "## Dataset\n",
    "\n",
    "### Overview\n",
    "TODO: In this markdown cell, give an overview of the dataset you are using. Also mention the task you will be performing.\n",
    "\n",
    "\n",
    "TODO: Get data. In the cell below, write code to access the data you will be using in this project. Remember that the dataset needs to be external."
   ]
  },
  {
   "cell_type": "code",
   "execution_count": 2,
   "metadata": {},
   "outputs": [
    {
     "data": {
      "text/html": [
       "<table style=\"width:100%\"><tr><th>Name</th><th>Workspace</th><th>Report Page</th><th>Docs Page</th></tr><tr><td>udacity-project-automl</td><td>quick-starts-ws-251798</td><td><a href=\"https://ml.azure.com/experiments/id/f7dc6b79-ee8c-413e-94c6-7be6054d0063?wsid=/subscriptions/6971f5ac-8af1-446e-8034-05acea24681f/resourcegroups/aml-quickstarts-251798/workspaces/quick-starts-ws-251798&amp;tid=660b3398-b80e-49d2-bc5b-ac1dc93b5254\" target=\"_blank\" rel=\"noopener\">Link to Azure Machine Learning studio</a></td><td><a href=\"https://docs.microsoft.com/en-us/python/api/azureml-core/azureml.core.experiment.Experiment?view=azure-ml-py\" target=\"_blank\" rel=\"noopener\">Link to Documentation</a></td></tr></table>"
      ],
      "text/plain": [
       "Experiment(Name: udacity-project-automl,\n",
       "Workspace: quick-starts-ws-251798)"
      ]
     },
     "execution_count": 2,
     "metadata": {},
     "output_type": "execute_result"
    }
   ],
   "source": [
    "ws = Workspace.from_config()\n",
    "\n",
    "# choose a name for experiment\n",
    "experiment_name = 'udacity-project-automl'\n",
    "project_folder = './automl-project'\n",
    "\n",
    "experiment = Experiment(ws, experiment_name)\n",
    "experiment"
   ]
  },
  {
   "cell_type": "code",
   "execution_count": 3,
   "metadata": {},
   "outputs": [],
   "source": [
    "from azureml.core.compute import ComputeTarget, AmlCompute\n",
    "\n",
    "cluster_name = \"udacity-finalproject-compute\"\n",
    "\n",
    "# TODO: Create compute cluster\n",
    "# Use vm_size = \"Standard_D2_V2\" in your provisioning configuration.\n",
    "# max_nodes should be no greater than 4.\n",
    "\n",
    "### YOUR CODE HERE ###\n",
    "\n",
    "# Check if the compute cluster already exists, if not, create a new one\n",
    "if cluster_name not in ws.compute_targets:\n",
    "    # Configure the provisioning details for the compute cluster\n",
    "    provisioning_config = AmlCompute.provisioning_configuration(vm_size='Standard_D2s_v3', max_nodes=4)\n",
    "\n",
    "    # Create the compute cluster\n",
    "    compute_target = ComputeTarget.create(ws, cluster_name, provisioning_config)\n",
    "\n",
    "    # Wait for the compute cluster to be provisioned\n",
    "    compute_target.wait_for_completion(show_output=True)\n",
    "else:\n",
    "    compute_target = ws.compute_targets[cluster_name]"
   ]
  },
  {
   "cell_type": "code",
   "execution_count": 4,
   "metadata": {},
   "outputs": [
    {
     "data": {
      "text/html": [
       "<div>\n",
       "<style scoped>\n",
       "    .dataframe tbody tr th:only-of-type {\n",
       "        vertical-align: middle;\n",
       "    }\n",
       "\n",
       "    .dataframe tbody tr th {\n",
       "        vertical-align: top;\n",
       "    }\n",
       "\n",
       "    .dataframe thead th {\n",
       "        text-align: right;\n",
       "    }\n",
       "</style>\n",
       "<table border=\"1\" class=\"dataframe\">\n",
       "  <thead>\n",
       "    <tr style=\"text-align: right;\">\n",
       "      <th></th>\n",
       "      <th>Age</th>\n",
       "      <th>RestingBP</th>\n",
       "      <th>Cholesterol</th>\n",
       "      <th>FastingBS</th>\n",
       "      <th>MaxHR</th>\n",
       "      <th>Oldpeak</th>\n",
       "      <th>HeartDisease</th>\n",
       "    </tr>\n",
       "  </thead>\n",
       "  <tbody>\n",
       "    <tr>\n",
       "      <th>count</th>\n",
       "      <td>918.000000</td>\n",
       "      <td>918.000000</td>\n",
       "      <td>918.000000</td>\n",
       "      <td>918.000000</td>\n",
       "      <td>918.000000</td>\n",
       "      <td>918.000000</td>\n",
       "      <td>918.000000</td>\n",
       "    </tr>\n",
       "    <tr>\n",
       "      <th>mean</th>\n",
       "      <td>53.510893</td>\n",
       "      <td>132.396514</td>\n",
       "      <td>198.799564</td>\n",
       "      <td>0.233115</td>\n",
       "      <td>136.809368</td>\n",
       "      <td>0.887364</td>\n",
       "      <td>0.553377</td>\n",
       "    </tr>\n",
       "    <tr>\n",
       "      <th>std</th>\n",
       "      <td>9.432617</td>\n",
       "      <td>18.514154</td>\n",
       "      <td>109.384145</td>\n",
       "      <td>0.423046</td>\n",
       "      <td>25.460334</td>\n",
       "      <td>1.066570</td>\n",
       "      <td>0.497414</td>\n",
       "    </tr>\n",
       "    <tr>\n",
       "      <th>min</th>\n",
       "      <td>28.000000</td>\n",
       "      <td>0.000000</td>\n",
       "      <td>0.000000</td>\n",
       "      <td>0.000000</td>\n",
       "      <td>60.000000</td>\n",
       "      <td>-2.600000</td>\n",
       "      <td>0.000000</td>\n",
       "    </tr>\n",
       "    <tr>\n",
       "      <th>25%</th>\n",
       "      <td>47.000000</td>\n",
       "      <td>120.000000</td>\n",
       "      <td>173.250000</td>\n",
       "      <td>0.000000</td>\n",
       "      <td>120.000000</td>\n",
       "      <td>0.000000</td>\n",
       "      <td>0.000000</td>\n",
       "    </tr>\n",
       "    <tr>\n",
       "      <th>50%</th>\n",
       "      <td>54.000000</td>\n",
       "      <td>130.000000</td>\n",
       "      <td>223.000000</td>\n",
       "      <td>0.000000</td>\n",
       "      <td>138.000000</td>\n",
       "      <td>0.600000</td>\n",
       "      <td>1.000000</td>\n",
       "    </tr>\n",
       "    <tr>\n",
       "      <th>75%</th>\n",
       "      <td>60.000000</td>\n",
       "      <td>140.000000</td>\n",
       "      <td>267.000000</td>\n",
       "      <td>0.000000</td>\n",
       "      <td>156.000000</td>\n",
       "      <td>1.500000</td>\n",
       "      <td>1.000000</td>\n",
       "    </tr>\n",
       "    <tr>\n",
       "      <th>max</th>\n",
       "      <td>77.000000</td>\n",
       "      <td>200.000000</td>\n",
       "      <td>603.000000</td>\n",
       "      <td>1.000000</td>\n",
       "      <td>202.000000</td>\n",
       "      <td>6.200000</td>\n",
       "      <td>1.000000</td>\n",
       "    </tr>\n",
       "  </tbody>\n",
       "</table>\n",
       "</div>"
      ],
      "text/plain": [
       "              Age   RestingBP  Cholesterol   FastingBS       MaxHR  \\\n",
       "count  918.000000  918.000000   918.000000  918.000000  918.000000   \n",
       "mean    53.510893  132.396514   198.799564    0.233115  136.809368   \n",
       "std      9.432617   18.514154   109.384145    0.423046   25.460334   \n",
       "min     28.000000    0.000000     0.000000    0.000000   60.000000   \n",
       "25%     47.000000  120.000000   173.250000    0.000000  120.000000   \n",
       "50%     54.000000  130.000000   223.000000    0.000000  138.000000   \n",
       "75%     60.000000  140.000000   267.000000    0.000000  156.000000   \n",
       "max     77.000000  200.000000   603.000000    1.000000  202.000000   \n",
       "\n",
       "          Oldpeak  HeartDisease  \n",
       "count  918.000000    918.000000  \n",
       "mean     0.887364      0.553377  \n",
       "std      1.066570      0.497414  \n",
       "min     -2.600000      0.000000  \n",
       "25%      0.000000      0.000000  \n",
       "50%      0.600000      1.000000  \n",
       "75%      1.500000      1.000000  \n",
       "max      6.200000      1.000000  "
      ]
     },
     "execution_count": 4,
     "metadata": {},
     "output_type": "execute_result"
    }
   ],
   "source": [
    "# Try to load the dataset from the Workspace. Otherwise, create it from the file\n",
    "# NOTE: update the key to match the dataset name\n",
    "found = False\n",
    "key = \"HeartFailurePrediction\"\n",
    "description_text = \"Heart Failure Prediction Dataset Kaggle\"\n",
    "\n",
    "if key in ws.datasets.keys(): \n",
    "        found = True\n",
    "        dataset = ws.datasets[key] \n",
    "\n",
    "if not found:      \n",
    "        # Set Kaggle credentials as environment variables or in a separate Kaggle.json file  \n",
    "        import os  \n",
    "        os.environ['KAGGLE_USERNAME'] = '<your_kaggle_username>'  \n",
    "        os.environ['KAGGLE_KEY'] = '<your_kaggle_api_key>'  \n",
    "\n",
    "        # kaggle datasets download -d fedesoriano/heart-failure-prediction\n",
    "        \n",
    "        # Download the Kaggle dataset using the KaggleDatasetFactory  \n",
    "        from azureml.data.dataset_factory import KaggleDatasetFactory  \n",
    "\n",
    "        factory = KaggleDatasetFactory()  \n",
    "        dataset = factory.create_dataset(  \n",
    "            dataset_id='<kaggle_dataset_id>',  \n",
    "            version='<kaggle_dataset_version>'  \n",
    "        )  \n",
    "\n",
    "        #Register Dataset in Workspace\n",
    "        dataset = dataset.register(workspace=ws,\n",
    "                                   name=key,\n",
    "                                   description=description_text)\n",
    "\n",
    "\n",
    "df = dataset.to_pandas_dataframe()\n",
    "df.describe()"
   ]
  },
  {
   "cell_type": "markdown",
   "metadata": {},
   "source": [
    "## AutoML Configuration\n",
    "\n",
    "TODO: Explain why you chose the automl settings and cofiguration you used below."
   ]
  },
  {
   "cell_type": "code",
   "execution_count": 5,
   "metadata": {
    "collapsed": false,
    "gather": {
     "logged": 1598429217746
    },
    "jupyter": {
     "outputs_hidden": false,
     "source_hidden": false
    },
    "nteract": {
     "transient": {
      "deleting": false
     }
    }
   },
   "outputs": [],
   "source": [
    "# TODO: Put your automl settings here\n",
    "automl_settings = {\n",
    "    \"experiment_timeout_minutes\": 20,\n",
    "    \"max_concurrent_iterations\": 5,\n",
    "    \"primary_metric\" : 'accuracy'\n",
    "}\n",
    "automl_config = AutoMLConfig(compute_target=compute_target,\n",
    "                             task = \"classification\",\n",
    "                             training_data=dataset,\n",
    "                             label_column_name=\"HeartDisease\",   \n",
    "                             path = project_folder,\n",
    "                             enable_early_stopping= True,\n",
    "                             featurization= 'auto',\n",
    "                             debug_log = \"automl_errors.log\",\n",
    "                             **automl_settings\n",
    "                            )\n",
    "\n"
   ]
  },
  {
   "cell_type": "code",
   "execution_count": 6,
   "metadata": {
    "collapsed": false,
    "gather": {
     "logged": 1598431107951
    },
    "jupyter": {
     "outputs_hidden": false,
     "source_hidden": false
    },
    "nteract": {
     "transient": {
      "deleting": false
     }
    }
   },
   "outputs": [
    {
     "name": "stdout",
     "output_type": "stream",
     "text": [
      "Submitting remote run.\n"
     ]
    },
    {
     "data": {
      "text/html": [
       "<table style=\"width:100%\"><tr><th>Experiment</th><th>Id</th><th>Type</th><th>Status</th><th>Details Page</th><th>Docs Page</th></tr><tr><td>udacity-project-automl</td><td>AutoML_0b5314a5-ef77-4c1d-9fee-1228a8a8b3aa</td><td>automl</td><td>NotStarted</td><td><a href=\"https://ml.azure.com/runs/AutoML_0b5314a5-ef77-4c1d-9fee-1228a8a8b3aa?wsid=/subscriptions/6971f5ac-8af1-446e-8034-05acea24681f/resourcegroups/aml-quickstarts-251798/workspaces/quick-starts-ws-251798&amp;tid=660b3398-b80e-49d2-bc5b-ac1dc93b5254\" target=\"_blank\" rel=\"noopener\">Link to Azure Machine Learning studio</a></td><td><a href=\"https://docs.microsoft.com/en-us/python/api/overview/azure/ml/intro?view=azure-ml-py\" target=\"_blank\" rel=\"noopener\">Link to Documentation</a></td></tr></table>"
      ]
     },
     "metadata": {},
     "output_type": "display_data"
    }
   ],
   "source": [
    "# TODO: Submit your experiment\n",
    "remote_run = experiment.submit(automl_config)\n"
   ]
  },
  {
   "cell_type": "markdown",
   "metadata": {},
   "source": [
    "## Run Details\n",
    "\n",
    "OPTIONAL: Write about the different models trained and their performance. Why do you think some models did better than others?\n",
    "\n",
    "TODO: In the cell below, use the `RunDetails` widget to show the different experiments."
   ]
  },
  {
   "cell_type": "code",
   "execution_count": 7,
   "metadata": {
    "collapsed": false,
    "gather": {
     "logged": 1598431121770
    },
    "jupyter": {
     "outputs_hidden": false,
     "source_hidden": false
    },
    "nteract": {
     "transient": {
      "deleting": false
     }
    }
   },
   "outputs": [
    {
     "data": {
      "application/vnd.jupyter.widget-view+json": {
       "model_id": "f435f43e37164cb8aed8a1b561a13439",
       "version_major": 2,
       "version_minor": 0
      },
      "text/plain": [
       "_AutoMLWidget(widget_settings={'childWidgetDisplay': 'popup', 'send_telemetry': False, 'log_level': 'INFO', 's…"
      ]
     },
     "metadata": {},
     "output_type": "display_data"
    },
    {
     "data": {
      "application/aml.mini.widget.v1": "{\"status\": \"Running\", \"workbench_run_details_uri\": \"https://ml.azure.com/runs/AutoML_0b5314a5-ef77-4c1d-9fee-1228a8a8b3aa?wsid=/subscriptions/6971f5ac-8af1-446e-8034-05acea24681f/resourcegroups/aml-quickstarts-251798/workspaces/quick-starts-ws-251798&tid=660b3398-b80e-49d2-bc5b-ac1dc93b5254\", \"run_id\": \"AutoML_0b5314a5-ef77-4c1d-9fee-1228a8a8b3aa\", \"run_properties\": {\"run_id\": \"AutoML_0b5314a5-ef77-4c1d-9fee-1228a8a8b3aa\", \"created_utc\": \"2024-02-06T03:33:35.70479Z\", \"properties\": {\"num_iterations\": \"1000\", \"training_type\": \"TrainFull\", \"acquisition_function\": \"EI\", \"primary_metric\": \"accuracy\", \"train_split\": \"0\", \"acquisition_parameter\": \"0\", \"num_cross_validation\": null, \"target\": \"udacity-finalproject-compute\", \"AMLSettingsJsonString\": \"{\\\"path\\\":null,\\\"name\\\":\\\"udacity-project-automl\\\",\\\"subscription_id\\\":\\\"6971f5ac-8af1-446e-8034-05acea24681f\\\",\\\"resource_group\\\":\\\"aml-quickstarts-251798\\\",\\\"workspace_name\\\":\\\"quick-starts-ws-251798\\\",\\\"region\\\":\\\"westeurope\\\",\\\"compute_target\\\":\\\"udacity-finalproject-compute\\\",\\\"spark_service\\\":null,\\\"azure_service\\\":\\\"remote\\\",\\\"many_models\\\":false,\\\"pipeline_fetch_max_batch_size\\\":1,\\\"enable_batch_run\\\":true,\\\"enable_parallel_run\\\":false,\\\"num_procs\\\":null,\\\"enable_run_restructure\\\":false,\\\"start_auxiliary_runs_before_parent_complete\\\":false,\\\"enable_code_generation\\\":true,\\\"iterations\\\":1000,\\\"primary_metric\\\":\\\"accuracy\\\",\\\"task_type\\\":\\\"classification\\\",\\\"positive_label\\\":null,\\\"data_script\\\":null,\\\"test_size\\\":0.0,\\\"test_include_predictions_only\\\":false,\\\"validation_size\\\":0.0,\\\"n_cross_validations\\\":null,\\\"y_min\\\":null,\\\"y_max\\\":null,\\\"num_classes\\\":null,\\\"featurization\\\":\\\"auto\\\",\\\"_ignore_package_version_incompatibilities\\\":false,\\\"is_timeseries\\\":false,\\\"max_cores_per_iteration\\\":1,\\\"max_concurrent_iterations\\\":5,\\\"iteration_timeout_minutes\\\":null,\\\"mem_in_mb\\\":null,\\\"enforce_time_on_windows\\\":false,\\\"experiment_timeout_minutes\\\":20,\\\"experiment_exit_score\\\":null,\\\"partition_column_names\\\":null,\\\"whitelist_models\\\":null,\\\"blacklist_algos\\\":[\\\"TensorFlowLinearClassifier\\\",\\\"TensorFlowDNN\\\"],\\\"supported_models\\\":[\\\"LogisticRegression\\\",\\\"TabnetClassifier\\\",\\\"TensorFlowDNN\\\",\\\"XGBoostClassifier\\\",\\\"SGD\\\",\\\"BernoulliNaiveBayes\\\",\\\"LightGBM\\\",\\\"LinearSVM\\\",\\\"TensorFlowLinearClassifier\\\",\\\"MultinomialNaiveBayes\\\",\\\"ExtremeRandomTrees\\\",\\\"GradientBoosting\\\",\\\"SVM\\\",\\\"DecisionTree\\\",\\\"KNN\\\",\\\"RandomForest\\\",\\\"AveragedPerceptronClassifier\\\"],\\\"private_models\\\":[],\\\"auto_blacklist\\\":true,\\\"blacklist_samples_reached\\\":false,\\\"exclude_nan_labels\\\":true,\\\"verbosity\\\":20,\\\"_debug_log\\\":\\\"azureml_automl.log\\\",\\\"show_warnings\\\":false,\\\"model_explainability\\\":true,\\\"service_url\\\":null,\\\"sdk_url\\\":null,\\\"sdk_packages\\\":null,\\\"enable_onnx_compatible_models\\\":false,\\\"enable_split_onnx_featurizer_estimator_models\\\":false,\\\"vm_type\\\":\\\"Standard_D2s_v3\\\",\\\"telemetry_verbosity\\\":20,\\\"send_telemetry\\\":true,\\\"enable_dnn\\\":false,\\\"scenario\\\":\\\"AutoML\\\",\\\"environment_label\\\":null,\\\"save_mlflow\\\":false,\\\"enable_categorical_indicators\\\":false,\\\"force_text_dnn\\\":false,\\\"enable_feature_sweeping\\\":true,\\\"enable_early_stopping\\\":true,\\\"early_stopping_n_iters\\\":10,\\\"arguments\\\":null,\\\"dataset_id\\\":\\\"46441e15-3cab-43a6-820e-5df1313e6423\\\",\\\"hyperdrive_config\\\":null,\\\"validation_dataset_id\\\":null,\\\"run_source\\\":null,\\\"metrics\\\":null,\\\"enable_metric_confidence\\\":false,\\\"enable_ensembling\\\":true,\\\"enable_stack_ensembling\\\":true,\\\"ensemble_iterations\\\":15,\\\"enable_tf\\\":false,\\\"enable_subsampling\\\":null,\\\"subsample_seed\\\":null,\\\"enable_nimbusml\\\":false,\\\"enable_streaming\\\":false,\\\"force_streaming\\\":false,\\\"track_child_runs\\\":true,\\\"n_best_runs\\\":1,\\\"allowed_private_models\\\":[],\\\"label_column_name\\\":\\\"HeartDisease\\\",\\\"weight_column_name\\\":null,\\\"cv_split_column_names\\\":null,\\\"enable_local_managed\\\":false,\\\"_local_managed_run_id\\\":null,\\\"cost_mode\\\":1,\\\"lag_length\\\":0,\\\"metric_operation\\\":\\\"maximize\\\",\\\"preprocess\\\":true}\", \"DataPrepJsonString\": \"{\\\\\\\"training_data\\\\\\\": {\\\\\\\"datasetId\\\\\\\": \\\\\\\"46441e15-3cab-43a6-820e-5df1313e6423\\\\\\\"}, \\\\\\\"datasets\\\\\\\": 0}\", \"EnableSubsampling\": null, \"runTemplate\": \"AutoML\", \"azureml.runsource\": \"automl\", \"display_task_type\": \"classification\", \"dependencies_versions\": \"{\\\"azureml-dataprep-native\\\": \\\"38.0.0\\\", \\\"azureml-dataprep\\\": \\\"4.10.8\\\", \\\"azureml-dataprep-rslex\\\": \\\"2.17.12\\\", \\\"azureml-train-automl-runtime\\\": \\\"1.51.0.post2\\\", \\\"azureml-train-automl-client\\\": \\\"1.51.0.post1\\\", \\\"azureml-training-tabular\\\": \\\"1.51.0.post1\\\", \\\"azureml-automl-runtime\\\": \\\"1.51.0.post1\\\", \\\"azureml-automl-core\\\": \\\"1.51.0.post1\\\", \\\"azureml-mlflow\\\": \\\"1.51.0\\\", \\\"azureml-datadrift\\\": \\\"1.51.0\\\", \\\"azureml-pipeline\\\": \\\"1.51.0\\\", \\\"azureml-contrib-dataset\\\": \\\"1.51.0\\\", \\\"azureml-contrib-notebook\\\": \\\"1.51.0\\\", \\\"azureml-accel-models\\\": \\\"1.51.0\\\", \\\"azureml-automl-dnn-nlp\\\": \\\"1.51.0\\\", \\\"azureml-pipeline-core\\\": \\\"1.51.0\\\", \\\"azureml-responsibleai\\\": \\\"1.51.0\\\", \\\"azureml-contrib-automl-pipeline-steps\\\": \\\"1.51.0\\\", \\\"azureml-pipeline-steps\\\": \\\"1.51.0\\\", \\\"azureml-core\\\": \\\"1.51.0\\\", \\\"azureml-contrib-reinforcementlearning\\\": \\\"1.51.0\\\", \\\"azureml-contrib-server\\\": \\\"1.51.0\\\", \\\"azureml-opendatasets\\\": \\\"1.51.0\\\", \\\"azureml-contrib-services\\\": \\\"1.51.0\\\", \\\"azureml-telemetry\\\": \\\"1.51.0\\\", \\\"azureml-train-restclients-hyperdrive\\\": \\\"1.51.0\\\", \\\"azureml-interpret\\\": \\\"1.51.0\\\", \\\"azureml-train-core\\\": \\\"1.51.0\\\", \\\"azureml-tensorboard\\\": \\\"1.51.0\\\", \\\"azureml-train\\\": \\\"1.51.0\\\", \\\"azureml-contrib-pipeline-steps\\\": \\\"1.51.0\\\", \\\"azureml-explain-model\\\": \\\"1.51.0\\\", \\\"azureml-cli-common\\\": \\\"1.51.0\\\", \\\"azureml-widgets\\\": \\\"1.51.0\\\", \\\"azureml-train-automl\\\": \\\"1.51.0\\\", \\\"azureml-defaults\\\": \\\"1.51.0\\\", \\\"azureml-contrib-fairness\\\": \\\"1.51.0\\\", \\\"azureml-sdk\\\": \\\"1.51.0\\\", \\\"azureml-dataset-runtime\\\": \\\"1.51.0\\\", \\\"azureml-inference-server-http\\\": \\\"0.8.4\\\"}\", \"_aml_system_scenario_identification\": \"Remote.Parent\", \"ClientType\": \"SDK\", \"PlatformVersion\": \"DPV1\", \"environment_cpu_name\": \"AzureML-AutoML\", \"environment_cpu_label\": \"scikit-upgrade2\", \"environment_gpu_name\": \"AzureML-AutoML-GPU\", \"environment_gpu_label\": \"scikit-upgrade2\", \"root_attribution\": \"automl\", \"attribution\": \"AutoML\", \"Orchestrator\": \"AutoML\", \"CancelUri\": \"https://westeurope.api.azureml.ms/jasmine/v1.0/subscriptions/6971f5ac-8af1-446e-8034-05acea24681f/resourceGroups/aml-quickstarts-251798/providers/Microsoft.MachineLearningServices/workspaces/quick-starts-ws-251798/experimentids/f7dc6b79-ee8c-413e-94c6-7be6054d0063/cancel/AutoML_0b5314a5-ef77-4c1d-9fee-1228a8a8b3aa\", \"ClientSdkVersion\": null, \"snapshotId\": \"00000000-0000-0000-0000-000000000000\", \"SetupRunId\": \"AutoML_0b5314a5-ef77-4c1d-9fee-1228a8a8b3aa_setup\", \"SetupRunContainerId\": \"dcid.AutoML_0b5314a5-ef77-4c1d-9fee-1228a8a8b3aa_setup\"}, \"tags\": {\"model_explain_run\": \"best_run\", \"_aml_system_automl_run_workspace_id\": \"d6cee425-6cec-4e0c-ae54-ef296a4775ed\", \"_aml_system_azureml.automlComponent\": \"AutoML\"}, \"end_time_utc\": null, \"status\": \"Running\", \"log_files\": {}, \"log_groups\": [], \"run_duration\": \"0:02:31\", \"run_number\": \"1707190415\", \"run_queued_details\": {\"status\": \"Running\", \"details\": null}}, \"child_runs\": [{\"run_id\": \"AutoML_0b5314a5-ef77-4c1d-9fee-1228a8a8b3aa_setup\", \"run_number\": 1707190428, \"metric\": null, \"status\": \"Finalizing\", \"run_type\": \"azureml.scriptrun\", \"training_percent\": null, \"start_time\": \"2024-02-06T03:34:09.271077Z\", \"end_time\": \"\", \"created_time\": \"2024-02-06T03:33:48.505803Z\", \"created_time_dt\": \"2024-02-06T03:33:48.505803Z\", \"duration\": \"0:02:19\", \"iteration\": null, \"goal\": null, \"run_name\": \"Finalizing\", \"run_properties\": null}], \"children_metrics\": {\"categories\": null, \"series\": null, \"metricName\": null}, \"run_metrics\": [{\"name\": \"experiment_status\", \"run_id\": \"AutoML_0b5314a5-ef77-4c1d-9fee-1228a8a8b3aa\", \"categories\": [0, 1], \"series\": [{\"data\": [\"DatasetEvaluation\", \"FeaturesGeneration\"]}]}, {\"name\": \"experiment_status_description\", \"run_id\": \"AutoML_0b5314a5-ef77-4c1d-9fee-1228a8a8b3aa\", \"categories\": [0, 1], \"series\": [{\"data\": [\"Gathering dataset statistics.\", \"Generating features for the dataset.\"]}]}], \"run_logs\": \"Your job is submitted in Azure cloud and we are monitoring to get logs...\", \"graph\": {}, \"widget_settings\": {\"childWidgetDisplay\": \"popup\", \"send_telemetry\": false, \"log_level\": \"INFO\", \"sdk_version\": \"1.51.0\"}, \"loading\": false}"
     },
     "metadata": {},
     "output_type": "display_data"
    }
   ],
   "source": [
    "from azureml.widgets import RunDetails\n",
    "RunDetails(remote_run).show()"
   ]
  },
  {
   "cell_type": "markdown",
   "metadata": {},
   "source": [
    "## Best Model\n",
    "\n",
    "TODO: In the cell below, get the best model from the automl experiments and display all the properties of the model.\n",
    "\n"
   ]
  },
  {
   "cell_type": "markdown",
   "metadata": {},
   "source": []
  },
  {
   "cell_type": "code",
   "execution_count": 29,
   "metadata": {
    "collapsed": false,
    "gather": {
     "logged": 1598431425670
    },
    "jupyter": {
     "outputs_hidden": false,
     "source_hidden": false
    },
    "nteract": {
     "transient": {
      "deleting": false
     }
    }
   },
   "outputs": [
    {
     "name": "stderr",
     "output_type": "stream",
     "text": [
      "WARNING:root:The version of the SDK does not match the version the model was trained on.\n",
      "WARNING:root:The consistency in the result may not be guaranteed.\n",
      "WARNING:root:Package:azureml-automl-core, training version:1.52.0.post1, current version:1.51.0.post1\n",
      "Package:azureml-automl-runtime, training version:1.52.0.post1, current version:1.51.0.post1\n",
      "Package:azureml-core, training version:1.52.0, current version:1.51.0\n",
      "Package:azureml-dataprep, training version:4.11.4, current version:4.10.8\n",
      "Package:azureml-dataprep-rslex, training version:2.18.4, current version:2.17.12\n",
      "Package:azureml-dataset-runtime, training version:1.52.0, current version:1.51.0\n",
      "Package:azureml-defaults, training version:1.52.0, current version:1.51.0\n",
      "Package:azureml-interpret, training version:1.52.0, current version:1.51.0\n",
      "Package:azureml-mlflow, training version:1.52.0, current version:1.51.0\n",
      "Package:azureml-pipeline-core, training version:1.52.0, current version:1.51.0\n",
      "Package:azureml-responsibleai, training version:1.52.0, current version:1.51.0\n",
      "Package:azureml-telemetry, training version:1.52.0, current version:1.51.0\n",
      "Package:azureml-train-automl-client, training version:1.52.0, current version:1.51.0.post1\n",
      "Package:azureml-train-automl-runtime, training version:1.52.0, current version:1.51.0.post2\n",
      "Package:azureml-train-core, training version:1.52.0, current version:1.51.0\n",
      "Package:azureml-train-restclients-hyperdrive, training version:1.52.0, current version:1.51.0\n",
      "Package:azureml-training-tabular, training version:1.52.0, current version:1.51.0.post1\n",
      "WARNING:root:Please ensure the version of your local conda dependencies match the version on which your model was trained in order to properly retrieve your model.\n"
     ]
    },
    {
     "name": "stdout",
     "output_type": "stream",
     "text": [
      "['accuracy_table', 'automl_driver.py', 'confusion_matrix', 'explanation/76d98acc/classes.interpret.json', 'explanation/76d98acc/eval_data_viz.interpret.json', 'explanation/76d98acc/expected_values.interpret.json', 'explanation/76d98acc/features.interpret.json', 'explanation/76d98acc/global_names/0.interpret.json', 'explanation/76d98acc/global_rank/0.interpret.json', 'explanation/76d98acc/global_values/0.interpret.json', 'explanation/76d98acc/local_importance_values.interpret.json', 'explanation/76d98acc/per_class_names/0.interpret.json', 'explanation/76d98acc/per_class_rank/0.interpret.json', 'explanation/76d98acc/per_class_values/0.interpret.json', 'explanation/76d98acc/rich_metadata.interpret.json', 'explanation/76d98acc/true_ys_viz.interpret.json', 'explanation/76d98acc/visualization_dict.interpret.json', 'explanation/76d98acc/ys_pred_proba_viz.interpret.json', 'explanation/76d98acc/ys_pred_viz.interpret.json', 'explanation/99e6e5c2/classes.interpret.json', 'explanation/99e6e5c2/expected_values.interpret.json', 'explanation/99e6e5c2/features.interpret.json', 'explanation/99e6e5c2/global_names/0.interpret.json', 'explanation/99e6e5c2/global_rank/0.interpret.json', 'explanation/99e6e5c2/global_values/0.interpret.json', 'explanation/99e6e5c2/local_importance_values_sparse.interpret.json', 'explanation/99e6e5c2/per_class_names/0.interpret.json', 'explanation/99e6e5c2/per_class_rank/0.interpret.json', 'explanation/99e6e5c2/per_class_values/0.interpret.json', 'explanation/99e6e5c2/rich_metadata.interpret.json', 'explanation/99e6e5c2/true_ys_viz.interpret.json', 'explanation/99e6e5c2/visualization_dict.interpret.json', 'explanation/99e6e5c2/ys_pred_proba_viz.interpret.json', 'explanation/99e6e5c2/ys_pred_viz.interpret.json', 'logs/azureml/azureml_automl.log', 'outputs/conda_env_v_1_0_0.yml', 'outputs/engineered_feature_names.json', 'outputs/env_dependencies.json', 'outputs/featurization_summary.json', 'outputs/generated_code/script.py', 'outputs/generated_code/script_run_notebook.ipynb', 'outputs/internal_cross_validated_models.pkl', 'outputs/model.pkl', 'outputs/pipeline_graph.json', 'outputs/run_id.txt', 'outputs/scoring_file_pbi_v_1_0_0.py', 'outputs/scoring_file_v_1_0_0.py', 'outputs/scoring_file_v_2_0_0.py', 'system_logs/cs_capability/cs-capability.log', 'system_logs/hosttools_capability/hosttools-capability.log', 'system_logs/lifecycler/execution-wrapper.log', 'system_logs/lifecycler/lifecycler.log', 'system_logs/metrics_capability/metrics-capability.log', 'system_logs/snapshot_capability/snapshot-capability.log', 'user_logs/std_log.txt']\n",
      "Registering model AM_best_model\n"
     ]
    }
   ],
   "source": [
    "# Get the best model  \n",
    "best_run, fitted_model = remote_run.get_output()  \n",
    "# print(best_run)\n",
    "# print(best_run.get_file_names())\n",
    "best_run.download_file(name='outputs/model.pkl')\n",
    "\n",
    "model_name = 'AM_best_model'  \n",
    "model_description = 'AM model with best accuracy'  \n",
    "tags = {'accuracy': best_run.get_metrics()['accuracy']}  \n",
    "\n",
    "\n",
    "registered_model = Model.register(workspace=ws,  \n",
    "                                 model_path='model.pkl',\n",
    "                                 model_name=model_name,  \n",
    "                                 description=model_description,  \n",
    "                                 tags=tags)  \n"
   ]
  },
  {
   "cell_type": "code",
   "execution_count": null,
   "metadata": {},
   "outputs": [],
   "source": []
  },
  {
   "cell_type": "markdown",
   "metadata": {},
   "source": [
    "## Model Deployment\n",
    "\n",
    "Remember you have to deploy only one of the two models you trained but you still need to register both the models. Perform the steps in the rest of this notebook only if you wish to deploy this model.\n",
    "\n",
    "TODO: In the cell below, register the model, create an inference config and deploy the model as a web service."
   ]
  },
  {
   "cell_type": "code",
   "execution_count": 32,
   "metadata": {},
   "outputs": [
    {
     "name": "stdout",
     "output_type": "stream",
     "text": [
      "Tips: You can try get_logs(): https://aka.ms/debugimage#dockerlog or local deployment: https://aka.ms/debugimage#debug-locally to debug if deployment takes longer than 10 minutes.\n",
      "Running\n",
      "2024-02-06 04:57:04+00:00 Creating Container Registry if not exists.\n",
      "2024-02-06 04:57:05+00:00 Registering the environment.\n",
      "2024-02-06 04:57:07+00:00 Building image..\n",
      "2024-02-06 05:47:33+00:00 Generating deployment configuration.\n",
      "2024-02-06 05:47:34+00:00 Submitting deployment to compute..\n",
      "2024-02-06 05:47:40+00:00 Checking the status of deployment automl-model-service..\n",
      "2024-02-06 05:50:28+00:00 Checking the status of inference endpoint automl-model-service.\n",
      "Succeeded\n",
      "ACI service creation operation finished, operation \"Succeeded\"\n"
     ]
    }
   ],
   "source": [
    "from azureml.automl.core.shared import constants\n",
    "best_run.download_file(constants.CONDA_ENV_FILE_PATH, 'myenv.yml')\n",
    "myenv = Environment.from_conda_specification(name='myenv', file_path='myenv.yml')\n",
    "best_run.download_file('outputs/scoring_file_v_1_0_0.py', 'inf_score.py')\n",
    "\n",
    "inference_config = InferenceConfig(entry_script='inf_score.py', environment=myenv)  \n",
    "deployment_config = AciWebservice.deploy_configuration(cpu_cores=1, memory_gb=1)  \n",
    "\n",
    "service_name = 'automl-model-service'  \n",
    "  \n",
    "service = Model.deploy(workspace=ws,  \n",
    "                       name=service_name,  \n",
    "                       models=[registered_model],  \n",
    "                       inference_config=inference_config,  \n",
    "                       deployment_config=deployment_config)  \n",
    "  \n",
    "service.wait_for_deployment(show_output=True)  "
   ]
  },
  {
   "cell_type": "markdown",
   "metadata": {
    "gather": {
     "logged": 1598431657736
    },
    "jupyter": {
     "outputs_hidden": false,
     "source_hidden": false
    },
    "nteract": {
     "transient": {
      "deleting": false
     }
    }
   },
   "source": [
    "TODO: In the cell below, send a request to the web service you deployed to test it."
   ]
  },
  {
   "cell_type": "code",
   "execution_count": 38,
   "metadata": {
    "collapsed": false,
    "gather": {
     "logged": 1598432707604
    },
    "jupyter": {
     "outputs_hidden": false,
     "source_hidden": false
    },
    "nteract": {
     "transient": {
      "deleting": false
     }
    }
   },
   "outputs": [
    {
     "name": "stdout",
     "output_type": "stream",
     "text": [
      "{\"result\": [0]}\n"
     ]
    }
   ],
   "source": [
    "# Get the deployed web service  \n",
    "from azureml.core.webservice import Webservice\n",
    "import json\n",
    "service_name = 'automl-model-service'  \n",
    "service = Webservice(workspace=ws, name=service_name)  \n",
    "  \n",
    "# Load the input data for making predictions  \n",
    "data =  {\n",
    "  \"data\": [\n",
    "    {\n",
    "      \"Age\": 57,\n",
    "      \"Sex\": \"M\",\n",
    "      \"ChestPainType\": \"ATA\",\n",
    "      \"RestingBP\": 140,\n",
    "      \"Cholesterol\": 289,\n",
    "      \"FastingBS\": 0,\n",
    "      \"RestingECG\": \"Normal\",\n",
    "      \"MaxHR\": 172,\n",
    "      \"ExerciseAngina\": \"false\",\n",
    "      \"Oldpeak\": 0.0,\n",
    "      \"ST_Slope\": \"up\"\n",
    "    }\n",
    "  ],\n",
    "  \"method\": \"predict\"\n",
    "}\n",
    "  \n",
    "# Convert the data to JSON string  \n",
    "input_data = json.dumps(data)  \n",
    "  \n",
    "# Call the web service to make predictions  \n",
    "result = service.run(input_data)  \n",
    "\n",
    "print(result)\n",
    "# Print the predictions  \n",
    "# predictions = json.loads(result)['predictions']  \n",
    "# for prediction in predictions:  \n",
    "#     print(prediction) "
   ]
  },
  {
   "cell_type": "markdown",
   "metadata": {
    "gather": {
     "logged": 1598432765711
    },
    "jupyter": {
     "outputs_hidden": false,
     "source_hidden": false
    },
    "nteract": {
     "transient": {
      "deleting": false
     }
    }
   },
   "source": [
    "TODO: In the cell below, print the logs of the web service and delete the service"
   ]
  },
  {
   "cell_type": "code",
   "execution_count": null,
   "metadata": {
    "collapsed": false,
    "jupyter": {
     "outputs_hidden": false
    },
    "nteract": {
     "transient": {
      "deleting": false
     }
    }
   },
   "outputs": [],
   "source": [
    "# Print the logs of the web service  \n",
    "logs = service.get_logs()  \n",
    "print(logs)\n",
    "\n",
    "# Delete the web service  \n",
    "service.delete()  "
   ]
  },
  {
   "cell_type": "markdown",
   "metadata": {},
   "source": [
    "**Submission Checklist**\n",
    "- I have registered the model.\n",
    "- I have deployed the model with the best accuracy as a webservice.\n",
    "- I have tested the webservice by sending a request to the model endpoint.\n",
    "- I have deleted the webservice and shutdown all the computes that I have used.\n",
    "- I have taken a screenshot showing the model endpoint as active.\n",
    "- The project includes a file containing the environment details.\n"
   ]
  },
  {
   "cell_type": "markdown",
   "metadata": {},
   "source": []
  }
 ],
 "metadata": {
  "kernel_info": {
   "name": "python3-azureml"
  },
  "kernelspec": {
   "display_name": "Python 3.8 - AzureML",
   "language": "python",
   "name": "python38-azureml"
  },
  "language_info": {
   "codemirror_mode": {
    "name": "ipython",
    "version": 3
   },
   "file_extension": ".py",
   "mimetype": "text/x-python",
   "name": "python",
   "nbconvert_exporter": "python",
   "pygments_lexer": "ipython3",
   "version": "3.8.5"
  },
  "microsoft": {
   "ms_spell_check": {
    "ms_spell_check_language": "en"
   }
  },
  "nteract": {
   "version": "nteract-front-end@1.0.0"
  }
 },
 "nbformat": 4,
 "nbformat_minor": 4
}
